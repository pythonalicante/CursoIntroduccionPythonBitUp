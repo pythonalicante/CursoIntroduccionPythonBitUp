{
 "cells": [
  {
   "cell_type": "markdown",
   "metadata": {},
   "source": [
    "<img src=\"Images/bitup_python_alicante_logos.png\" alt=\"noto found\" style=\"width: 400px;\"/>"
   ]
  },
  {
   "cell_type": "markdown",
   "metadata": {
    "colab_type": "text",
    "id": "HS7_BzPbweNN"
   },
   "source": [
    "# De 0 a Python 🚀🐍"
   ]
  },
  {
   "cell_type": "markdown",
   "metadata": {},
   "source": [
    "Taller de introducción a Python elaborado por Python Alicante con motivo de las segundas jornadas de ciberseguridad organizadas por BitUp Alicante."
   ]
  },
  {
   "cell_type": "markdown",
   "metadata": {
    "colab_type": "text",
    "id": "uQ1BS6BOeuKe"
   },
   "source": [
    "**Instructores:** **Jaume Gasa** , **Gonzalo López**, **Alejandro Almira**, **Daniel Domene-López** "
   ]
  },
  {
   "cell_type": "markdown",
   "metadata": {
    "colab_type": "text",
    "id": "QTq59puNeJtK"
   },
   "source": [
    "Twitter: **[@python_alc](https://twitter.com/python_alc?lang=es)** "
   ]
  },
  {
   "cell_type": "markdown",
   "metadata": {},
   "source": [
    "Github: https://github.com/pythonalicante"
   ]
  },
  {
   "cell_type": "markdown",
   "metadata": {
    "colab_type": "text",
    "id": "0Wh42McSgyyp"
   },
   "source": [
    "Agradecimientos: **[@bitupalicante](https://twitter.com/bitupalicante?lang=es)** , \n",
    "**[@AeroPython](https://twitter.com/AeroPython?lang=es)**,\n",
    "**[@CAChemEorg](https://twitter.com/CAChemEorg?lang=es)**"
   ]
  },
  {
   "cell_type": "markdown",
   "metadata": {
    "colab_type": "text",
    "id": "l9PpGZmqweNS"
   },
   "source": [
    "## ¿Qué es Python?"
   ]
  },
  {
   "cell_type": "markdown",
   "metadata": {
    "colab_type": "text",
    "id": "agJBVUQTweNX"
   },
   "source": [
    "* Python es un lenguaje de programación interpretado e intuitivo.\n",
    "* Creador: Guido van Rossum en 1991.\n",
    "* Ampliamente utilizado en ciencia e ingeniería.\n"
   ]
  },
  {
   "cell_type": "markdown",
   "metadata": {
    "colab_type": "text",
    "id": "XxMDIafPweNj"
   },
   "source": [
    "## El zen de Python"
   ]
  },
  {
   "cell_type": "code",
   "execution_count": null,
   "metadata": {
    "colab": {
     "base_uri": "https://localhost:8080/",
     "height": 381
    },
    "colab_type": "code",
    "executionInfo": {
     "elapsed": 458,
     "status": "ok",
     "timestamp": 1540576305257,
     "user": {
      "displayName": "Daniel Domene López",
      "photoUrl": "https://lh6.googleusercontent.com/-NK0jQGDtjx0/AAAAAAAAAAI/AAAAAAAAALc/i2hDDqIpNfQ/s64/photo.jpg",
      "userId": "15642670598270210838"
     },
     "user_tz": -120
    },
    "id": "pMvukB6hweNq",
    "outputId": "6d18a8a1-9839-41f1-fa9a-760f6aa00954"
   },
   "outputs": [],
   "source": [
    "import this"
   ]
  },
  {
   "cell_type": "code",
   "execution_count": null,
   "metadata": {
    "colab": {},
    "colab_type": "code",
    "id": "j0WrcnSZweN_"
   },
   "outputs": [],
   "source": [
    "import antigravity "
   ]
  },
  {
   "cell_type": "markdown",
   "metadata": {},
   "source": [
    "## Instalación"
   ]
  },
  {
   "cell_type": "markdown",
   "metadata": {},
   "source": [
    "### Python"
   ]
  },
  {
   "cell_type": "markdown",
   "metadata": {},
   "source": [
    "Descarga desde la página web oficial: https://www.python.org/downloads/"
   ]
  },
  {
   "cell_type": "markdown",
   "metadata": {},
   "source": [
    "### Jupyter"
   ]
  },
  {
   "cell_type": "markdown",
   "metadata": {},
   "source": [
    "En una terminal, introducimos los siguientes comandos:"
   ]
  },
  {
   "cell_type": "markdown",
   "metadata": {},
   "source": [
    "```\n",
    "python3 -m pip install --upgrade pip\n",
    "python3 -m pip install jupyter\n",
    "```"
   ]
  },
  {
   "cell_type": "markdown",
   "metadata": {
    "colab_type": "text",
    "id": "heWXPvPBweOh"
   },
   "source": [
    "## Introducción a la sintaxis de Python"
   ]
  },
  {
   "cell_type": "markdown",
   "metadata": {
    "colab_type": "text",
    "id": "GIBu1sbuweOj"
   },
   "source": [
    "### Tipos numéricos"
   ]
  },
  {
   "cell_type": "markdown",
   "metadata": {
    "colab_type": "text",
    "id": "_3cK2j6PweOl"
   },
   "source": [
    "Con Python se puede realizar operaciones matemáticas:"
   ]
  },
  {
   "cell_type": "code",
   "execution_count": null,
   "metadata": {
    "colab": {
     "base_uri": "https://localhost:8080/",
     "height": 35
    },
    "colab_type": "code",
    "executionInfo": {
     "elapsed": 470,
     "status": "ok",
     "timestamp": 1540577029854,
     "user": {
      "displayName": "Daniel Domene López",
      "photoUrl": "https://lh6.googleusercontent.com/-NK0jQGDtjx0/AAAAAAAAAAI/AAAAAAAAALc/i2hDDqIpNfQ/s64/photo.jpg",
      "userId": "15642670598270210838"
     },
     "user_tz": -120
    },
    "id": "xiauP7TxweOp",
    "outputId": "1a1c2e94-a2fc-4f6d-f500-36a5ee3e4e56"
   },
   "outputs": [],
   "source": [
    "4 * 3 - (5 + 1) / 3.0 + 4"
   ]
  },
  {
   "cell_type": "markdown",
   "metadata": {
    "colab_type": "text",
    "id": "qK3r7UdXweO3"
   },
   "source": [
    "Al dividir por cero obtenemos un error: "
   ]
  },
  {
   "cell_type": "code",
   "execution_count": null,
   "metadata": {
    "colab": {
     "base_uri": "https://localhost:8080/",
     "height": 166
    },
    "colab_type": "code",
    "executionInfo": {
     "elapsed": 476,
     "status": "error",
     "timestamp": 1540576843959,
     "user": {
      "displayName": "Daniel Domene López",
      "photoUrl": "https://lh6.googleusercontent.com/-NK0jQGDtjx0/AAAAAAAAAAI/AAAAAAAAALc/i2hDDqIpNfQ/s64/photo.jpg",
      "userId": "15642670598270210838"
     },
     "user_tz": -120
    },
    "id": "qNjULYMgweO5",
    "outputId": "33970032-a444-496b-cf33-e9b5bd7d5c0c"
   },
   "outputs": [],
   "source": [
    "1 / 0"
   ]
  },
  {
   "cell_type": "code",
   "execution_count": null,
   "metadata": {
    "colab": {
     "base_uri": "https://localhost:8080/",
     "height": 166
    },
    "colab_type": "code",
    "executionInfo": {
     "elapsed": 507,
     "status": "error",
     "timestamp": 1540576918379,
     "user": {
      "displayName": "Daniel Domene López",
      "photoUrl": "https://lh6.googleusercontent.com/-NK0jQGDtjx0/AAAAAAAAAAI/AAAAAAAAALc/i2hDDqIpNfQ/s64/photo.jpg",
      "userId": "15642670598270210838"
     },
     "user_tz": -120
    },
    "id": "eRKHdcH2wePY",
    "outputId": "bd0d9a65-39cb-49a6-9db7-2b3f53202b7b"
   },
   "outputs": [],
   "source": [
    "1.0 / 0.0"
   ]
  },
  {
   "cell_type": "code",
   "execution_count": null,
   "metadata": {
    "colab": {
     "base_uri": "https://localhost:8080/",
     "height": 35
    },
    "colab_type": "code",
    "executionInfo": {
     "elapsed": 453,
     "status": "ok",
     "timestamp": 1540577057830,
     "user": {
      "displayName": "Daniel Domene López",
      "photoUrl": "https://lh6.googleusercontent.com/-NK0jQGDtjx0/AAAAAAAAAAI/AAAAAAAAALc/i2hDDqIpNfQ/s64/photo.jpg",
      "userId": "15642670598270210838"
     },
     "user_tz": -120
    },
    "id": "bdedNkbXwePr",
    "outputId": "41f8bfbd-a8b4-498c-945d-8fc9ed4819af"
   },
   "outputs": [],
   "source": [
    "6 / 4"
   ]
  },
  {
   "cell_type": "markdown",
   "metadata": {
    "colab_type": "text",
    "id": "5YjudxkbweP2"
   },
   "source": [
    "Si necesitamos que la parte entera de la división, podemos usar el operador `//`:"
   ]
  },
  {
   "cell_type": "code",
   "execution_count": null,
   "metadata": {
    "colab": {
     "base_uri": "https://localhost:8080/",
     "height": 35
    },
    "colab_type": "code",
    "executionInfo": {
     "elapsed": 536,
     "status": "ok",
     "timestamp": 1540577067155,
     "user": {
      "displayName": "Daniel Domene López",
      "photoUrl": "https://lh6.googleusercontent.com/-NK0jQGDtjx0/AAAAAAAAAAI/AAAAAAAAALc/i2hDDqIpNfQ/s64/photo.jpg",
      "userId": "15642670598270210838"
     },
     "user_tz": -120
    },
    "id": "HSBEmC0RweP3",
    "outputId": "2af65b0c-d566-439f-aaf9-8f5a6dbb3614"
   },
   "outputs": [],
   "source": [
    "6 // 4"
   ]
  },
  {
   "cell_type": "markdown",
   "metadata": {
    "colab_type": "text",
    "id": "MjXdo60fweQK"
   },
   "source": [
    "Para convertir entre tipos numéricos podemos usar las funciones `int` y `float`:"
   ]
  },
  {
   "cell_type": "code",
   "execution_count": null,
   "metadata": {
    "colab": {
     "base_uri": "https://localhost:8080/",
     "height": 35
    },
    "colab_type": "code",
    "executionInfo": {
     "elapsed": 446,
     "status": "ok",
     "timestamp": 1540577090948,
     "user": {
      "displayName": "Daniel Domene López",
      "photoUrl": "https://lh6.googleusercontent.com/-NK0jQGDtjx0/AAAAAAAAAAI/AAAAAAAAALc/i2hDDqIpNfQ/s64/photo.jpg",
      "userId": "15642670598270210838"
     },
     "user_tz": -120
    },
    "id": "5VxU0Z0DweQN",
    "outputId": "2464683c-9f14-4125-a776-99ad8ee178b1"
   },
   "outputs": [],
   "source": [
    "int(5.7)"
   ]
  },
  {
   "cell_type": "markdown",
   "metadata": {
    "colab_type": "text",
    "id": "R6TNbPjRweQX"
   },
   "source": [
    "Al convertir a `int` descartamos la parte entera. Si en realidad queremos redondear:"
   ]
  },
  {
   "cell_type": "code",
   "execution_count": null,
   "metadata": {
    "colab": {
     "base_uri": "https://localhost:8080/",
     "height": 35
    },
    "colab_type": "code",
    "executionInfo": {
     "elapsed": 431,
     "status": "ok",
     "timestamp": 1540577167190,
     "user": {
      "displayName": "Daniel Domene López",
      "photoUrl": "https://lh6.googleusercontent.com/-NK0jQGDtjx0/AAAAAAAAAAI/AAAAAAAAALc/i2hDDqIpNfQ/s64/photo.jpg",
      "userId": "15642670598270210838"
     },
     "user_tz": -120
    },
    "id": "emtYRB13weQY",
    "outputId": "779c8ff2-42e8-4509-82c2-5ad33e7aee0e"
   },
   "outputs": [],
   "source": [
    "round(5.7)"
   ]
  },
  {
   "cell_type": "code",
   "execution_count": null,
   "metadata": {
    "colab": {
     "base_uri": "https://localhost:8080/",
     "height": 35
    },
    "colab_type": "code",
    "executionInfo": {
     "elapsed": 442,
     "status": "ok",
     "timestamp": 1540577169287,
     "user": {
      "displayName": "Daniel Domene López",
      "photoUrl": "https://lh6.googleusercontent.com/-NK0jQGDtjx0/AAAAAAAAAAI/AAAAAAAAALc/i2hDDqIpNfQ/s64/photo.jpg",
      "userId": "15642670598270210838"
     },
     "user_tz": -120
    },
    "id": "Z_xfwEo_weQp",
    "outputId": "bd32265d-0bd4-4753-f15d-e95dac119b7e"
   },
   "outputs": [],
   "source": [
    "float(5)"
   ]
  },
  {
   "cell_type": "markdown",
   "metadata": {
    "colab_type": "text",
    "id": "rKRcJ0ROweRM"
   },
   "source": [
    "Otras funciones útiles:"
   ]
  },
  {
   "cell_type": "code",
   "execution_count": null,
   "metadata": {
    "colab": {
     "base_uri": "https://localhost:8080/",
     "height": 35
    },
    "colab_type": "code",
    "executionInfo": {
     "elapsed": 433,
     "status": "ok",
     "timestamp": 1540577206043,
     "user": {
      "displayName": "Daniel Domene López",
      "photoUrl": "https://lh6.googleusercontent.com/-NK0jQGDtjx0/AAAAAAAAAAI/AAAAAAAAALc/i2hDDqIpNfQ/s64/photo.jpg",
      "userId": "15642670598270210838"
     },
     "user_tz": -120
    },
    "id": "W9DX_s2cweRP",
    "outputId": "6fd28145-38b3-47fb-9b4d-52bbda862f9a"
   },
   "outputs": [],
   "source": [
    "max(0, -2, 3, 5)"
   ]
  },
  {
   "cell_type": "code",
   "execution_count": null,
   "metadata": {
    "colab": {
     "base_uri": "https://localhost:8080/",
     "height": 35
    },
    "colab_type": "code",
    "executionInfo": {
     "elapsed": 460,
     "status": "ok",
     "timestamp": 1540577225947,
     "user": {
      "displayName": "Daniel Domene López",
      "photoUrl": "https://lh6.googleusercontent.com/-NK0jQGDtjx0/AAAAAAAAAAI/AAAAAAAAALc/i2hDDqIpNfQ/s64/photo.jpg",
      "userId": "15642670598270210838"
     },
     "user_tz": -120
    },
    "id": "woqv7IktweR5",
    "outputId": "0285a628-bf28-49a1-fbe9-c0ee9edccae2"
   },
   "outputs": [],
   "source": [
    "min(0, -2, 3, 5)"
   ]
  },
  {
   "cell_type": "markdown",
   "metadata": {
    "colab_type": "text",
    "id": "4n3Lt5l1kOHz"
   },
   "source": [
    "**Ejercicios: **\n",
    "¿Cuál es el resultado de las siguientes operaciones?"
   ]
  },
  {
   "cell_type": "markdown",
   "metadata": {
    "colab_type": "text",
    "id": "S8FBFU5akdgk"
   },
   "source": [
    " $$ 4 + 7 * (5 -7) + 50 $$"
   ]
  },
  {
   "cell_type": "code",
   "execution_count": null,
   "metadata": {
    "colab": {},
    "colab_type": "code",
    "id": "eeuGuEYskcwM"
   },
   "outputs": [],
   "source": []
  },
  {
   "cell_type": "markdown",
   "metadata": {
    "colab_type": "text",
    "id": "rRzK_cFFkxk8"
   },
   "source": [
    "$$ 4 * (5+8) - \\frac{5 * (1-7)}{4-2} $$"
   ]
  },
  {
   "cell_type": "code",
   "execution_count": null,
   "metadata": {
    "colab": {},
    "colab_type": "code",
    "id": "A9_27rZolPb0"
   },
   "outputs": [],
   "source": []
  },
  {
   "cell_type": "markdown",
   "metadata": {
    "colab_type": "text",
    "id": "uufPSfr2lN5s"
   },
   "source": [
    "$$ min(1.0256, 1.02567, 1.0257, 1.0254) $$"
   ]
  },
  {
   "cell_type": "code",
   "execution_count": null,
   "metadata": {
    "colab": {},
    "colab_type": "code",
    "id": "joo-_C-Slo52"
   },
   "outputs": [],
   "source": []
  },
  {
   "cell_type": "markdown",
   "metadata": {
    "colab_type": "text",
    "id": "3f5ogf8OweSo"
   },
   "source": [
    "### Asignación y operadores de comparación"
   ]
  },
  {
   "cell_type": "markdown",
   "metadata": {
    "colab_type": "text",
    "id": "4bX_nNHZweSy"
   },
   "source": [
    "La asignación en Python funciona con el operador `=`"
   ]
  },
  {
   "cell_type": "code",
   "execution_count": null,
   "metadata": {
    "colab": {},
    "colab_type": "code",
    "id": "TaIpD2wjweS8"
   },
   "outputs": [],
   "source": [
    "a = 2 + 5"
   ]
  },
  {
   "cell_type": "code",
   "execution_count": null,
   "metadata": {
    "colab": {
     "base_uri": "https://localhost:8080/",
     "height": 35
    },
    "colab_type": "code",
    "executionInfo": {
     "elapsed": 538,
     "status": "ok",
     "timestamp": 1540577261667,
     "user": {
      "displayName": "Daniel Domene López",
      "photoUrl": "https://lh6.googleusercontent.com/-NK0jQGDtjx0/AAAAAAAAAAI/AAAAAAAAALc/i2hDDqIpNfQ/s64/photo.jpg",
      "userId": "15642670598270210838"
     },
     "user_tz": -120
    },
    "id": "4b8tkyjNweTF",
    "outputId": "fb326cf9-6485-4d40-dbcb-6db13c52cc9e"
   },
   "outputs": [],
   "source": [
    "a"
   ]
  },
  {
   "cell_type": "markdown",
   "metadata": {
    "colab_type": "text",
    "id": "kiW_zkbiweTP"
   },
   "source": [
    "Podemos encadenar varias asignaciones:"
   ]
  },
  {
   "cell_type": "code",
   "execution_count": null,
   "metadata": {
    "colab": {
     "base_uri": "https://localhost:8080/",
     "height": 35
    },
    "colab_type": "code",
    "executionInfo": {
     "elapsed": 594,
     "status": "ok",
     "timestamp": 1540570927629,
     "user": {
      "displayName": "Daniel Domene López",
      "photoUrl": "https://lh6.googleusercontent.com/-NK0jQGDtjx0/AAAAAAAAAAI/AAAAAAAAALc/i2hDDqIpNfQ/s64/photo.jpg",
      "userId": "15642670598270210838"
     },
     "user_tz": -120
    },
    "id": "WiQV9I-9KAde",
    "outputId": "070c87b7-eb81-4419-c012-0ffd151027c6"
   },
   "outputs": [],
   "source": [
    "fruta_1 , fruta_2 = \"manzana\" , \"sandía\" \n",
    "fruta_1 , fruta_2"
   ]
  },
  {
   "cell_type": "markdown",
   "metadata": {
    "colab_type": "text",
    "id": "6IY7zYvlweTg"
   },
   "source": [
    "<div class=\"alert alert-info\">Podemos realizar **asignación múltiple**, que hemos hecho en la celda anterior con las variables `fruta_1` y `fruta_2` para intercambiar valores de manera intuitiva:</div> "
   ]
  },
  {
   "cell_type": "code",
   "execution_count": null,
   "metadata": {
    "colab": {
     "base_uri": "https://localhost:8080/",
     "height": 35
    },
    "colab_type": "code",
    "executionInfo": {
     "elapsed": 451,
     "status": "ok",
     "timestamp": 1540570930452,
     "user": {
      "displayName": "Daniel Domene López",
      "photoUrl": "https://lh6.googleusercontent.com/-NK0jQGDtjx0/AAAAAAAAAAI/AAAAAAAAALc/i2hDDqIpNfQ/s64/photo.jpg",
      "userId": "15642670598270210838"
     },
     "user_tz": -120
    },
    "id": "6U1RACChKXMn",
    "outputId": "c3298f7d-abb1-417f-ed64-5b05b90c3341"
   },
   "outputs": [],
   "source": [
    "fruta_1 , fruta_2 = fruta_2 , fruta_1\n",
    "fruta_1 , fruta_2"
   ]
  },
  {
   "cell_type": "markdown",
   "metadata": {
    "colab_type": "text",
    "id": "Tc2RS_d1weT6"
   },
   "source": [
    "Los operadores de comparación son `==`, `!=`, `<`, `<=`, `>`, `>=`."
   ]
  },
  {
   "cell_type": "code",
   "execution_count": null,
   "metadata": {},
   "outputs": [],
   "source": [
    "little_num = 1\n",
    "bigger_num = 1_000_000"
   ]
  },
  {
   "cell_type": "code",
   "execution_count": null,
   "metadata": {
    "colab": {
     "base_uri": "https://localhost:8080/",
     "height": 35
    },
    "colab_type": "code",
    "executionInfo": {
     "elapsed": 495,
     "status": "ok",
     "timestamp": 1540570934887,
     "user": {
      "displayName": "Daniel Domene López",
      "photoUrl": "https://lh6.googleusercontent.com/-NK0jQGDtjx0/AAAAAAAAAAI/AAAAAAAAALc/i2hDDqIpNfQ/s64/photo.jpg",
      "userId": "15642670598270210838"
     },
     "user_tz": -120
    },
    "id": "G2msmKTEweUH",
    "outputId": "593d714f-4394-4c97-976c-1a4791000eed"
   },
   "outputs": [],
   "source": [
    "little_num == bigger_num"
   ]
  },
  {
   "cell_type": "code",
   "execution_count": null,
   "metadata": {
    "colab": {
     "base_uri": "https://localhost:8080/",
     "height": 35
    },
    "colab_type": "code",
    "executionInfo": {
     "elapsed": 633,
     "status": "ok",
     "timestamp": 1540570936631,
     "user": {
      "displayName": "Daniel Domene López",
      "photoUrl": "https://lh6.googleusercontent.com/-NK0jQGDtjx0/AAAAAAAAAAI/AAAAAAAAALc/i2hDDqIpNfQ/s64/photo.jpg",
      "userId": "15642670598270210838"
     },
     "user_tz": -120
    },
    "id": "052keX8hweUQ",
    "outputId": "ca5d7897-8a74-44cf-da5a-9d74d90e42e2"
   },
   "outputs": [],
   "source": [
    "little_num != bigger_num"
   ]
  },
  {
   "cell_type": "code",
   "execution_count": null,
   "metadata": {
    "colab": {
     "base_uri": "https://localhost:8080/",
     "height": 104
    },
    "colab_type": "code",
    "executionInfo": {
     "elapsed": 535,
     "status": "ok",
     "timestamp": 1540570950903,
     "user": {
      "displayName": "Daniel Domene López",
      "photoUrl": "https://lh6.googleusercontent.com/-NK0jQGDtjx0/AAAAAAAAAAI/AAAAAAAAALc/i2hDDqIpNfQ/s64/photo.jpg",
      "userId": "15642670598270210838"
     },
     "user_tz": -120
    },
    "id": "YKRU4WguweUj",
    "outputId": "c7d29dfb-bcee-49af-d01b-b4c13fa3e806"
   },
   "outputs": [],
   "source": [
    "little_num < bigger_num"
   ]
  },
  {
   "cell_type": "code",
   "execution_count": null,
   "metadata": {},
   "outputs": [],
   "source": [
    "little_num > bigger_num"
   ]
  },
  {
   "cell_type": "code",
   "execution_count": null,
   "metadata": {},
   "outputs": [],
   "source": [
    "little_num <= 1"
   ]
  },
  {
   "cell_type": "code",
   "execution_count": null,
   "metadata": {},
   "outputs": [],
   "source": [
    "little_num >= bigger_num"
   ]
  },
  {
   "cell_type": "markdown",
   "metadata": {
    "colab_type": "text",
    "id": "XiZ41E2qmKKI"
   },
   "source": [
    "**Ejercicios: **\n",
    "Asigna cada fracción a una variable y compáralas:"
   ]
  },
  {
   "cell_type": "markdown",
   "metadata": {
    "colab_type": "text",
    "id": "pBDt84qKmaDI"
   },
   "source": [
    "$$ \\frac {323} {17}; \\frac {59755}{3145} $$ "
   ]
  },
  {
   "cell_type": "code",
   "execution_count": null,
   "metadata": {
    "colab": {
     "base_uri": "https://localhost:8080/",
     "height": 35
    },
    "colab_type": "code",
    "executionInfo": {
     "elapsed": 563,
     "status": "ok",
     "timestamp": 1540578178683,
     "user": {
      "displayName": "Daniel Domene López",
      "photoUrl": "https://lh6.googleusercontent.com/-NK0jQGDtjx0/AAAAAAAAAAI/AAAAAAAAALc/i2hDDqIpNfQ/s64/photo.jpg",
      "userId": "15642670598270210838"
     },
     "user_tz": -120
    },
    "id": "a7oXvYlJm6RP",
    "outputId": "4bf6b8c9-2599-416b-e397-dba72b497cfc"
   },
   "outputs": [],
   "source": []
  },
  {
   "cell_type": "markdown",
   "metadata": {
    "colab_type": "text",
    "id": "8f9X0NOoxJ61"
   },
   "source": [
    "### Cadenas de caracteres"
   ]
  },
  {
   "cell_type": "markdown",
   "metadata": {
    "colab_type": "text",
    "id": "odfhoLMw0zkA"
   },
   "source": [
    "#### Declaración\n",
    "\n",
    "Para crear variables que contengan texto utilizaremos los símbolos `\"\"` o `'`. Como norma, suele utilizarse las dobles comillas `\"` para documentación y la comilla simple `'` para variables en el código."
   ]
  },
  {
   "cell_type": "code",
   "execution_count": null,
   "metadata": {
    "colab": {
     "base_uri": "https://localhost:8080/",
     "height": 35
    },
    "colab_type": "code",
    "executionInfo": {
     "elapsed": 470,
     "status": "ok",
     "timestamp": 1540578270510,
     "user": {
      "displayName": "Daniel Domene López",
      "photoUrl": "https://lh6.googleusercontent.com/-NK0jQGDtjx0/AAAAAAAAAAI/AAAAAAAAALc/i2hDDqIpNfQ/s64/photo.jpg",
      "userId": "15642670598270210838"
     },
     "user_tz": -120
    },
    "id": "KheBC8kgxJYw",
    "outputId": "85cf90da-1fab-4c79-9f32-8eb3051bc4ec"
   },
   "outputs": [],
   "source": [
    "mejor_animal = 'Panda rojo'\n",
    "mejor_animal"
   ]
  },
  {
   "cell_type": "markdown",
   "metadata": {
    "colab_type": "text",
    "id": "iV2Jq6Hz3GaQ"
   },
   "source": [
    "Para crear strings muy largos y que sean legibles, podemos separar la frase en múltiples líneas de forma simple y segura utilizando paréntesis de la siguiente forma:"
   ]
  },
  {
   "cell_type": "code",
   "execution_count": null,
   "metadata": {
    "colab": {
     "base_uri": "https://localhost:8080/",
     "height": 34
    },
    "colab_type": "code",
    "executionInfo": {
     "elapsed": 522,
     "status": "ok",
     "timestamp": 1540297209558,
     "user": {
      "displayName": "Jaume Rheon",
      "photoUrl": "",
      "userId": "13482955063337757112"
     },
     "user_tz": -120
    },
    "id": "rw60ns3m3Ffn",
    "outputId": "d9874855-d945-492e-9630-d094d46f863b"
   },
   "outputs": [],
   "source": [
    "intro_episodio_VI = ('Luke Skywalker ha regresado '\n",
    "                     'a su planeta hogar Tatooine, '\n",
    "                     'en su intento por rescatar a su '\n",
    "                     'amigo Han Solo de las garras del '\n",
    "                     'malvado Java, el Hut.')\n",
    "intro_episodio_VI"
   ]
  },
  {
   "cell_type": "markdown",
   "metadata": {
    "colab_type": "text",
    "id": "22yaC0oK2JQW"
   },
   "source": [
    "#### Funciones sobre strings"
   ]
  },
  {
   "cell_type": "markdown",
   "metadata": {
    "colab_type": "text",
    "id": "rTiAICYY4aow"
   },
   "source": [
    "Cambios entre mayúsculas y minúsculas:\n",
    "\n",
    "\n",
    "*  **Upper**: convierte todo a mayúsuclas\n",
    "*  **Lower**: convierte todo a minúsculas\n",
    "*  **Capitalize**: la primera letra en mayúsculas\n",
    "* **Title**: la primera letra de cada palabra en mayúsculas\n",
    "* **Swapcase**: cambiar mayúsuclas por minúsculas y viceversa\n",
    "\n",
    "\n"
   ]
  },
  {
   "cell_type": "code",
   "execution_count": null,
   "metadata": {
    "colab": {
     "base_uri": "https://localhost:8080/",
     "height": 34
    },
    "colab_type": "code",
    "executionInfo": {
     "elapsed": 536,
     "status": "ok",
     "timestamp": 1540298444251,
     "user": {
      "displayName": "Jaume Rheon",
      "photoUrl": "",
      "userId": "13482955063337757112"
     },
     "user_tz": -120
    },
    "id": "SpUh0C9J4aWd",
    "outputId": "ff3f9413-7795-4d93-df70-8d7798571128"
   },
   "outputs": [],
   "source": [
    "algo_que_gritarle_al_mundo = '¡Me gusta el helado!'\n",
    "algo_que_gritarle_al_mundo.upper()"
   ]
  },
  {
   "cell_type": "code",
   "execution_count": null,
   "metadata": {
    "colab": {
     "base_uri": "https://localhost:8080/",
     "height": 34
    },
    "colab_type": "code",
    "executionInfo": {
     "elapsed": 1018,
     "status": "ok",
     "timestamp": 1540393514216,
     "user": {
      "displayName": "Jaume Rheon",
      "photoUrl": "",
      "userId": "13482955063337757112"
     },
     "user_tz": -120
    },
    "id": "2QHKUfQx7yTj",
    "outputId": "e6c8cae3-79f4-4ee3-9efc-b213093badb3"
   },
   "outputs": [],
   "source": [
    "tranquilizar_texto = 'ESTÁS TOTALMENTE EQUIVOCADO AARGHH'\n",
    "tranquilizar_texto.lower()"
   ]
  },
  {
   "cell_type": "code",
   "execution_count": null,
   "metadata": {
    "colab": {
     "base_uri": "https://localhost:8080/",
     "height": 34
    },
    "colab_type": "code",
    "executionInfo": {
     "elapsed": 531,
     "status": "ok",
     "timestamp": 1540298498846,
     "user": {
      "displayName": "Jaume Rheon",
      "photoUrl": "",
      "userId": "13482955063337757112"
     },
     "user_tz": -120
    },
    "id": "QnT_odKH8Iju",
    "outputId": "6e9f3ea8-9710-4220-c1f6-b7097a1c9e45"
   },
   "outputs": [],
   "source": [
    "provincia = 'alicante'\n",
    "provincia.capitalize()"
   ]
  },
  {
   "cell_type": "code",
   "execution_count": null,
   "metadata": {
    "colab": {
     "base_uri": "https://localhost:8080/",
     "height": 35
    },
    "colab_type": "code",
    "executionInfo": {
     "elapsed": 436,
     "status": "ok",
     "timestamp": 1540571247745,
     "user": {
      "displayName": "Daniel Domene López",
      "photoUrl": "https://lh6.googleusercontent.com/-NK0jQGDtjx0/AAAAAAAAAAI/AAAAAAAAALc/i2hDDqIpNfQ/s64/photo.jpg",
      "userId": "15642670598270210838"
     },
     "user_tz": -120
    },
    "id": "jhlLMEtd8gM9",
    "outputId": "cb9ca818-15dd-4399-ef81-73963c94e62b"
   },
   "outputs": [],
   "source": [
    "best_animal = 'pitón amarilla'\n",
    "best_animal.title()"
   ]
  },
  {
   "cell_type": "code",
   "execution_count": null,
   "metadata": {
    "colab": {
     "base_uri": "https://localhost:8080/",
     "height": 34
    },
    "colab_type": "code",
    "executionInfo": {
     "elapsed": 532,
     "status": "ok",
     "timestamp": 1540298682747,
     "user": {
      "displayName": "Jaume Rheon",
      "photoUrl": "",
      "userId": "13482955063337757112"
     },
     "user_tz": -120
    },
    "id": "2KNilpDZ9IYH",
    "outputId": "089d2d55-f4f5-4146-c0d1-23e43c8bd237"
   },
   "outputs": [],
   "source": [
    "usuario_despistado = 'mI NOMBRE ES iÑIGO mONTOYA'\n",
    "usuario_despistado.swapcase()"
   ]
  },
  {
   "cell_type": "markdown",
   "metadata": {
    "colab_type": "text",
    "id": "XoXPuvms9eGn"
   },
   "source": [
    "#### Juntar y separar strings\n"
   ]
  },
  {
   "cell_type": "markdown",
   "metadata": {
    "colab_type": "text",
    "id": "ampNswcSlsDu"
   },
   "source": [
    "Es posible acceder a los distintos caractéres que componen el string con el operador `[]`, veamos como acceder a distintas posiciones de una frase:\n"
   ]
  },
  {
   "cell_type": "code",
   "execution_count": null,
   "metadata": {
    "colab": {
     "base_uri": "https://localhost:8080/",
     "height": 34
    },
    "colab_type": "code",
    "executionInfo": {
     "elapsed": 614,
     "status": "ok",
     "timestamp": 1540393890630,
     "user": {
      "displayName": "Jaume Rheon",
      "photoUrl": "",
      "userId": "13482955063337757112"
     },
     "user_tz": -120
    },
    "id": "hCuvr1BTmF1M",
    "outputId": "3d0a974d-d2be-4303-8a43-bd8e216a6ca9"
   },
   "outputs": [],
   "source": [
    "tercera_ley_termo = \"Con toda acción ocurre siempre una reacción igual y contraria.\"\n",
    "\n",
    "tercera_ley_termo[0]"
   ]
  },
  {
   "cell_type": "markdown",
   "metadata": {},
   "source": [
    "Ahora vamos a acceder a la última posición del string:"
   ]
  },
  {
   "cell_type": "code",
   "execution_count": null,
   "metadata": {
    "colab": {
     "base_uri": "https://localhost:8080/",
     "height": 34
    },
    "colab_type": "code",
    "executionInfo": {
     "elapsed": 574,
     "status": "ok",
     "timestamp": 1540393908394,
     "user": {
      "displayName": "Jaume Rheon",
      "photoUrl": "",
      "userId": "13482955063337757112"
     },
     "user_tz": -120
    },
    "id": "49oCa34dlq18",
    "outputId": "dd1561d1-d05e-4f02-eefd-24f38f0ced03"
   },
   "outputs": [],
   "source": [
    "ultimo_caracter = len(tercera_ley_termo) - 1  # Porque se cuenta desde cero\n",
    "tercera_ley_termo[último_caracter]"
   ]
  },
  {
   "cell_type": "raw",
   "metadata": {},
   "source": [
    "Como esto es un problema muy común, Python tiene una forma especial de acceder a las posiciones finales:"
   ]
  },
  {
   "cell_type": "code",
   "execution_count": null,
   "metadata": {
    "colab": {
     "base_uri": "https://localhost:8080/",
     "height": 34
    },
    "colab_type": "code",
    "executionInfo": {
     "elapsed": 640,
     "status": "ok",
     "timestamp": 1540393934206,
     "user": {
      "displayName": "Jaume Rheon",
      "photoUrl": "",
      "userId": "13482955063337757112"
     },
     "user_tz": -120
    },
    "id": "9gpb8gy7od8S",
    "outputId": "b2d3dcdc-e7d5-4325-ef9f-e861c7cbbe3c"
   },
   "outputs": [],
   "source": [
    "tercera_ley_termo[-1]"
   ]
  },
  {
   "cell_type": "markdown",
   "metadata": {},
   "source": [
    "Por último, es posible también coger un intervalo concreto del string:"
   ]
  },
  {
   "cell_type": "code",
   "execution_count": null,
   "metadata": {
    "colab": {
     "base_uri": "https://localhost:8080/",
     "height": 34
    },
    "colab_type": "code",
    "executionInfo": {
     "elapsed": 614,
     "status": "ok",
     "timestamp": 1540394049654,
     "user": {
      "displayName": "Jaume Rheon",
      "photoUrl": "",
      "userId": "13482955063337757112"
     },
     "user_tz": -120
    },
    "id": "rs_EWYqwo2rU",
    "outputId": "61087a96-e516-4474-d0c3-5cf0f31c9b74"
   },
   "outputs": [],
   "source": [
    "tercera_ley_termo[9:15]"
   ]
  },
  {
   "cell_type": "markdown",
   "metadata": {
    "colab_type": "text",
    "id": "V7Zn3WIHAEZB"
   },
   "source": [
    "Un poco más avanzamos es la únión de diferentes strings en uno solo. Para ello, podemos usar la función `join` para juntar strings desde una estructura de datos que veremos más adelante llamada `list` (lista)."
   ]
  },
  {
   "cell_type": "code",
   "execution_count": null,
   "metadata": {
    "colab": {
     "base_uri": "https://localhost:8080/",
     "height": 35
    },
    "colab_type": "code",
    "executionInfo": {
     "elapsed": 757,
     "status": "ok",
     "timestamp": 1540571446856,
     "user": {
      "displayName": "Daniel Domene López",
      "photoUrl": "https://lh6.googleusercontent.com/-NK0jQGDtjx0/AAAAAAAAAAI/AAAAAAAAALc/i2hDDqIpNfQ/s64/photo.jpg",
      "userId": "15642670598270210838"
     },
     "user_tz": -120
    },
    "id": "rXrLSH6A9xht",
    "outputId": "2504d6c8-efbb-4f2a-c254-6e537476c738"
   },
   "outputs": [],
   "source": [
    "mis_animales_favoritos = ['panda-rojo', 'mantis-marina', 'caballo', 'pitón-amarilla', 'pitón-azul']\n",
    "mis_animales_favoritos\n"
   ]
  },
  {
   "cell_type": "code",
   "execution_count": null,
   "metadata": {
    "colab": {
     "base_uri": "https://localhost:8080/",
     "height": 35
    },
    "colab_type": "code",
    "executionInfo": {
     "elapsed": 550,
     "status": "ok",
     "timestamp": 1540571447716,
     "user": {
      "displayName": "Daniel Domene López",
      "photoUrl": "https://lh6.googleusercontent.com/-NK0jQGDtjx0/AAAAAAAAAAI/AAAAAAAAALc/i2hDDqIpNfQ/s64/photo.jpg",
      "userId": "15642670598270210838"
     },
     "user_tz": -120
    },
    "id": "0Hb-M-NF9dTH",
    "outputId": "f6ff5701-6384-45ee-b77a-da94839de63b"
   },
   "outputs": [],
   "source": [
    "''.join(mis_animales_favoritos)"
   ]
  },
  {
   "cell_type": "code",
   "execution_count": null,
   "metadata": {
    "colab": {
     "base_uri": "https://localhost:8080/",
     "height": 35
    },
    "colab_type": "code",
    "executionInfo": {
     "elapsed": 432,
     "status": "ok",
     "timestamp": 1540571461192,
     "user": {
      "displayName": "Daniel Domene López",
      "photoUrl": "https://lh6.googleusercontent.com/-NK0jQGDtjx0/AAAAAAAAAAI/AAAAAAAAALc/i2hDDqIpNfQ/s64/photo.jpg",
      "userId": "15642670598270210838"
     },
     "user_tz": -120
    },
    "id": "M6UVlrzy_2HO",
    "outputId": "57dd48c9-e901-4293-e1b6-089a5d2f1d75"
   },
   "outputs": [],
   "source": [
    "string_animales = ', '.join(mis_animales_favoritos)\n",
    "string_animales\n"
   ]
  },
  {
   "cell_type": "markdown",
   "metadata": {
    "colab_type": "text",
    "id": "LgH2le92CJz2"
   },
   "source": [
    "De forma contraria, desde un string podemos generar varios, y encapsularlos en una lista utilizando la función `split`:"
   ]
  },
  {
   "cell_type": "code",
   "execution_count": null,
   "metadata": {
    "colab": {
     "base_uri": "https://localhost:8080/",
     "height": 35
    },
    "colab_type": "code",
    "executionInfo": {
     "elapsed": 457,
     "status": "ok",
     "timestamp": 1540571503068,
     "user": {
      "displayName": "Daniel Domene López",
      "photoUrl": "https://lh6.googleusercontent.com/-NK0jQGDtjx0/AAAAAAAAAAI/AAAAAAAAALc/i2hDDqIpNfQ/s64/photo.jpg",
      "userId": "15642670598270210838"
     },
     "user_tz": -120
    },
    "id": "DUKMy0RUCgwS",
    "outputId": "aba0dba1-56a2-4774-ddaf-6b8694bbba41"
   },
   "outputs": [],
   "source": [
    "lista_animales = string_animales.split(',')\n",
    "lista_animales"
   ]
  },
  {
   "cell_type": "markdown",
   "metadata": {
    "colab_type": "text",
    "id": "VrH2CueJweUv"
   },
   "source": [
    "### Estructuras de datos"
   ]
  },
  {
   "cell_type": "markdown",
   "metadata": {
    "colab_type": "text",
    "id": "2o-S8JNvweUx"
   },
   "source": [
    "#### Tuplas\n",
    "\n",
    "Una **tupla** es una secuencia de elementos, inmutable y que no tienen significado por separado. Por ejemplo, unas coordenadas, una dirección o incluso el código RGB. "
   ]
  },
  {
   "cell_type": "markdown",
   "metadata": {
    "colab_type": "text",
    "id": "xessJmDxrJpU"
   },
   "source": [
    "##### Declaración\n",
    "\n",
    "Para crear una tupla se utilizará el operador `()` "
   ]
  },
  {
   "cell_type": "code",
   "execution_count": null,
   "metadata": {
    "colab": {
     "base_uri": "https://localhost:8080/",
     "height": 34
    },
    "colab_type": "code",
    "executionInfo": {
     "elapsed": 1002,
     "status": "ok",
     "timestamp": 1540395142632,
     "user": {
      "displayName": "Jaume Rheon",
      "photoUrl": "",
      "userId": "13482955063337757112"
     },
     "user_tz": -120
    },
    "id": "yqW2aiK3rJJQ",
    "outputId": "beee7cc4-7dec-4036-dd93-9c4c5b27cc20"
   },
   "outputs": [],
   "source": [
    "color_rojo = (255, 0, 0)\n",
    "color_rojo"
   ]
  },
  {
   "cell_type": "markdown",
   "metadata": {
    "colab_type": "text",
    "id": "64KOHrNms1E2"
   },
   "source": [
    "#### Características\n",
    "\n",
    "Las tuplas se caracterizan por ser inmutables, es decir, que una vez declaradas se puede acceder a sus elementos utilizando el operador `[]` pero no cambiar ninguno de sus valores."
   ]
  },
  {
   "cell_type": "code",
   "execution_count": null,
   "metadata": {},
   "outputs": [],
   "source": [
    "color_rojo[0]"
   ]
  },
  {
   "cell_type": "code",
   "execution_count": null,
   "metadata": {
    "colab": {
     "base_uri": "https://localhost:8080/",
     "height": 167
    },
    "colab_type": "code",
    "executionInfo": {
     "elapsed": 590,
     "status": "error",
     "timestamp": 1540395135636,
     "user": {
      "displayName": "Jaume Rheon",
      "photoUrl": "",
      "userId": "13482955063337757112"
     },
     "user_tz": -120
    },
    "id": "OL0MnER2tCBG",
    "outputId": "418186d9-767e-48b5-a529-769ad8acbf86"
   },
   "outputs": [],
   "source": [
    "color_rojo[0] = 125"
   ]
  },
  {
   "cell_type": "markdown",
   "metadata": {
    "colab_type": "text",
    "id": "wRbmn3rnq3YE"
   },
   "source": [
    "#### Listas\n",
    "Una **lista** es una secuencia mutable, la cual puede modificarse en cualquier momento una vez han sido definidas. "
   ]
  },
  {
   "cell_type": "markdown",
   "metadata": {
    "colab_type": "text",
    "id": "zR3cXacEwyti"
   },
   "source": [
    "#### Declaración\n",
    "\n",
    "Las listas, por otra parte, se declaran utilizando el operador `[]`"
   ]
  },
  {
   "cell_type": "code",
   "execution_count": null,
   "metadata": {
    "colab": {
     "base_uri": "https://localhost:8080/",
     "height": 35
    },
    "colab_type": "code",
    "executionInfo": {
     "elapsed": 511,
     "status": "ok",
     "timestamp": 1540572156511,
     "user": {
      "displayName": "Daniel Domene López",
      "photoUrl": "https://lh6.googleusercontent.com/-NK0jQGDtjx0/AAAAAAAAAAI/AAAAAAAAALc/i2hDDqIpNfQ/s64/photo.jpg",
      "userId": "15642670598270210838"
     },
     "user_tz": -120
    },
    "id": "OJxIdnjcq2jm",
    "outputId": "93c3949a-144a-4173-891b-78973f62c3c0"
   },
   "outputs": [],
   "source": [
    "mujeres_que_lo_petaron = [\"Hedy Lamarr\", \"Valentina Tereshkova\", \"Katherine Johnson\", \"Grace Hopper\"]\n",
    "mujeres_que_lo_petaron"
   ]
  },
  {
   "cell_type": "markdown",
   "metadata": {
    "colab_type": "text",
    "id": "uPx--Yfuq41s"
   },
   "source": [
    "#### Caracterísitcas\n",
    "\n",
    "Las listas son estructuras mutables y es posible acceder a sus elementos mediante el operador `[]` de la misma forma como hemos hecho anteriormente en el apartado de strings.\n"
   ]
  },
  {
   "cell_type": "code",
   "execution_count": null,
   "metadata": {
    "colab": {
     "base_uri": "https://localhost:8080/",
     "height": 34
    },
    "colab_type": "code",
    "executionInfo": {
     "elapsed": 568,
     "status": "ok",
     "timestamp": 1540397542794,
     "user": {
      "displayName": "Jaume Rheon",
      "photoUrl": "",
      "userId": "13482955063337757112"
     },
     "user_tz": -120
    },
    "id": "TIGyc_BN2P5C",
    "outputId": "86abb893-e690-45c0-c549-38ad0352e717"
   },
   "outputs": [],
   "source": [
    "mujeres_que_lo_petaron[0]"
   ]
  },
  {
   "cell_type": "code",
   "execution_count": null,
   "metadata": {
    "colab": {
     "base_uri": "https://localhost:8080/",
     "height": 35
    },
    "colab_type": "code",
    "executionInfo": {
     "elapsed": 454,
     "status": "ok",
     "timestamp": 1540572191942,
     "user": {
      "displayName": "Daniel Domene López",
      "photoUrl": "https://lh6.googleusercontent.com/-NK0jQGDtjx0/AAAAAAAAAAI/AAAAAAAAALc/i2hDDqIpNfQ/s64/photo.jpg",
      "userId": "15642670598270210838"
     },
     "user_tz": -120
    },
    "id": "PXOYWRkm2Tyc",
    "outputId": "2d9789a4-65a6-4ba2-e513-560f55d0a93f"
   },
   "outputs": [],
   "source": [
    "mujeres_que_lo_petaron[-1]"
   ]
  },
  {
   "cell_type": "code",
   "execution_count": null,
   "metadata": {
    "colab": {
     "base_uri": "https://localhost:8080/",
     "height": 35
    },
    "colab_type": "code",
    "executionInfo": {
     "elapsed": 472,
     "status": "ok",
     "timestamp": 1540572205206,
     "user": {
      "displayName": "Daniel Domene López",
      "photoUrl": "https://lh6.googleusercontent.com/-NK0jQGDtjx0/AAAAAAAAAAI/AAAAAAAAALc/i2hDDqIpNfQ/s64/photo.jpg",
      "userId": "15642670598270210838"
     },
     "user_tz": -120
    },
    "id": "XIyYMAYq2X22",
    "outputId": "9b9e20e4-bfd8-4313-9dae-1ec415a294f1"
   },
   "outputs": [],
   "source": [
    "mujeres_que_lo_petaron[0] = \"Ada Lovelace\"  # Las listas, al ser mutables, podemos sobreescribir cualquier valor\n",
    "mujeres_que_lo_petaron"
   ]
  },
  {
   "cell_type": "markdown",
   "metadata": {
    "colab_type": "text",
    "id": "vMj3H9t_weUy"
   },
   "source": [
    "#### Tuplas V.S. Listas\n",
    "\n",
    "Tuplas y listas son estructuras de datos a priori muy parecidas y que se distinguen solo por ser las primeras inmutables y las segundas mutables. \n",
    "\n",
    "Su principal diferencia, no obstante, se puede apreciar en la práctica, donde las tuplas son usadas para crear variables cuyos elementos son tratados como un todo o una unidad, mientras que las listas son \"contenedores\" de distintos elementos. \n",
    "\n",
    "Podemos ver esto con un par de ejemplos:\n"
   ]
  },
  {
   "cell_type": "code",
   "execution_count": null,
   "metadata": {
    "colab": {},
    "colab_type": "code",
    "id": "te4JoDiC-pK-"
   },
   "outputs": [],
   "source": [
    "color_rojo = (255, 0, 0)\n",
    "color_verde = (0, 255, 0)\n",
    "color_azul = (0, 0, 255)\n",
    "\n",
    "colores_primarios = [color_rojo, color_verde, color_azul]"
   ]
  },
  {
   "cell_type": "code",
   "execution_count": null,
   "metadata": {
    "colab": {},
    "colab_type": "code",
    "id": "kX_TFkEc-5n6"
   },
   "outputs": [],
   "source": [
    "coordenada_1 = (34.138194, -118.353233)\n",
    "coordenada_2 = (38.384837, -0.512768249)\n",
    "\n",
    "sitios_guays = (coordenada_1, coordenada_2)\n"
   ]
  },
  {
   "cell_type": "markdown",
   "metadata": {
    "colab_type": "text",
    "id": "ygNVH1mUoIcQ"
   },
   "source": [
    "**Ejercicios: **\n",
    "Crea una tupla e intenta modificarla.\n",
    "Crea una lista e intenta modificarla.\n",
    "Ahora compáralas."
   ]
  },
  {
   "cell_type": "code",
   "execution_count": null,
   "metadata": {},
   "outputs": [],
   "source": []
  },
  {
   "cell_type": "markdown",
   "metadata": {
    "colab_type": "text",
    "id": "7NKJtISngpQd"
   },
   "source": [
    "#### Diccionarios"
   ]
  },
  {
   "cell_type": "markdown",
   "metadata": {},
   "source": [
    "Un diccionario es una estructura similar a la lista donde, cada posición de la lista (llamado `valor`) tiene un identificador único llamado `llave`.\n",
    "\n",
    "Las llaves suelen ser de tipo string o numérico, mientras que los valores pueden ser desde otro string o número hasta listas o incluso otros diccionarios."
   ]
  },
  {
   "cell_type": "markdown",
   "metadata": {},
   "source": [
    "##### Declaración\n",
    "Para declarar un diccinario se utliza el siguiente operador `{}`:"
   ]
  },
  {
   "cell_type": "code",
   "execution_count": null,
   "metadata": {},
   "outputs": [],
   "source": [
    "aeropuertos = {'alicante':'ALC' ,\n",
    "               'barcelona': 'BCN',\n",
    "               'madrid': 'MAD',\n",
    "               'valencia': 'VAL'\n",
    "}"
   ]
  },
  {
   "cell_type": "markdown",
   "metadata": {},
   "source": [
    "De tal forma que, si quisiéramos saber las siglas de un aeropuerto:"
   ]
  },
  {
   "cell_type": "code",
   "execution_count": null,
   "metadata": {},
   "outputs": [],
   "source": [
    "aeropuertos['alicante']"
   ]
  },
  {
   "cell_type": "markdown",
   "metadata": {},
   "source": [
    "**Ejercicio:** escribe un diccionario cuya clave sea una comunidad autónoma y su valor, sean las provincias que la compenen. Escribre al menos dos comunidades."
   ]
  },
  {
   "cell_type": "code",
   "execution_count": null,
   "metadata": {},
   "outputs": [],
   "source": []
  },
  {
   "cell_type": "markdown",
   "metadata": {
    "colab_type": "text",
    "id": "PEbK28a5weWB"
   },
   "source": [
    "***"
   ]
  },
  {
   "cell_type": "markdown",
   "metadata": {
    "colab_type": "text",
    "id": "2yH9f5_nwLRa"
   },
   "source": [
    "### Estructuras de control"
   ]
  },
  {
   "cell_type": "markdown",
   "metadata": {
    "colab_type": "text",
    "id": "uRDIQ77BweWD"
   },
   "source": [
    "#### Condicionales"
   ]
  },
  {
   "cell_type": "markdown",
   "metadata": {
    "colab_type": "text",
    "id": "GPcQgFlcweWD"
   },
   "source": [
    "En Python, los condicionales siguen esta estructura:"
   ]
  },
  {
   "cell_type": "code",
   "execution_count": null,
   "metadata": {
    "colab": {
     "base_uri": "https://localhost:8080/",
     "height": 35
    },
    "colab_type": "code",
    "executionInfo": {
     "elapsed": 496,
     "status": "ok",
     "timestamp": 1540578577426,
     "user": {
      "displayName": "Daniel Domene López",
      "photoUrl": "https://lh6.googleusercontent.com/-NK0jQGDtjx0/AAAAAAAAAAI/AAAAAAAAALc/i2hDDqIpNfQ/s64/photo.jpg",
      "userId": "15642670598270210838"
     },
     "user_tz": -120
    },
    "id": "rT15nCRgweWE",
    "outputId": "1efc2070-4b77-42cf-a8a1-1f63987a5e3d"
   },
   "outputs": [],
   "source": [
    "if 10 < 1_000:\n",
    "    print(\"Evidentemente 10 es menor que 1000.\")\n",
    "    "
   ]
  },
  {
   "cell_type": "markdown",
   "metadata": {
    "colab_type": "text",
    "id": "wtIV-FmUpMJc"
   },
   "source": [
    "Presta atención a la indentación que se utiliza para introducir el print. Cuando introducimos un condicional, después de los dos puntos tenemos que indentar para que considere que estás dentro del condicional. "
   ]
  },
  {
   "cell_type": "code",
   "execution_count": null,
   "metadata": {
    "colab": {
     "base_uri": "https://localhost:8080/",
     "height": 131
    },
    "colab_type": "code",
    "executionInfo": {
     "elapsed": 470,
     "status": "error",
     "timestamp": 1540578621147,
     "user": {
      "displayName": "Daniel Domene López",
      "photoUrl": "https://lh6.googleusercontent.com/-NK0jQGDtjx0/AAAAAAAAAAI/AAAAAAAAALc/i2hDDqIpNfQ/s64/photo.jpg",
      "userId": "15642670598270210838"
     },
     "user_tz": -120
    },
    "id": "3iuGH0o7weWQ",
    "outputId": "8f6835de-457f-441c-c2b2-eeda9e610905"
   },
   "outputs": [],
   "source": [
    "if 10 < 1_000:\n",
    "    print(\"1 es menor que 0\")\n",
    "     print(\"1 sigue siendo mayor que 0\") # No debe haber más de una tabulación (4 espacios)"
   ]
  },
  {
   "cell_type": "markdown",
   "metadata": {
    "colab_type": "text",
    "id": "OaAxv8kfweWV"
   },
   "source": [
    "Si queremos añadir ramas adicionales al condicional, podemos emplear la sentencia `elif` (abreviatura de *else if*). Para la parte final, que debe ejecutarse si ninguna de las condiciones anteriores se ha cumplido, usamos la sentencia `else`: **nota->** poner el ejemplo del if in con la lista de la compra\n",
    "if manzana in lista_compra:\n",
    "  print (soy toh* sano) "
   ]
  },
  {
   "cell_type": "code",
   "execution_count": null,
   "metadata": {
    "colab": {
     "base_uri": "https://localhost:8080/",
     "height": 34
    },
    "colab_type": "code",
    "executionInfo": {
     "elapsed": 944,
     "status": "ok",
     "timestamp": 1540418802126,
     "user": {
      "displayName": "Jaume Rheon",
      "photoUrl": "https://lh4.googleusercontent.com/-gz9guKWrw7U/AAAAAAAAAAI/AAAAAAAACok/mGqTx1B5Q8c/s64/photo.jpg",
      "userId": "13482955063337757112"
     },
     "user_tz": -120
    },
    "id": "LVo9twHqweWW",
    "outputId": "1b0f349e-e513-4d06-9f43-dd78a4fa2da5"
   },
   "outputs": [],
   "source": [
    "opcion = 5\n",
    "\n",
    "if opcion == 1:\n",
    "    print(\"¡Al ataque!\")\n",
    "elif opcion == 2:\n",
    "    print(\"El mejor ataque es una buena defensa, o eso dicen.\")\n",
    "elif opcion == 3:\n",
    "    print(\"Mejor retirarse, aquí no hay nada que hacer.\")\n",
    "else:\n",
    "    print(\"Solo habían 3 opciones y has decidido hacer otra cosa, has muerto ¯\\_(ツ)_/¯\")"
   ]
  },
  {
   "cell_type": "markdown",
   "metadata": {
    "colab_type": "text",
    "id": "AzoWyvwcq6mv"
   },
   "source": [
    "**Ejercicio**\n",
    "Elabora con distintas sentencias condicionales tu propio juego, donde dependiendo de la opción de entrada obtienes diferentes salidas:"
   ]
  },
  {
   "cell_type": "code",
   "execution_count": null,
   "metadata": {},
   "outputs": [],
   "source": []
  },
  {
   "cell_type": "markdown",
   "metadata": {
    "colab_type": "text",
    "id": "ucpbEzNtweWa"
   },
   "source": [
    "Los bucles nos permiten repetir acciones un número determinado de veces. Según cómo queramos definir ese número de veces usaremos:\n",
    "\n",
    "*   Un bucle **for**: cuando tenemos una variable **iterable**, es decir una variable que podemos recorrer, como una cadena de caracteres(string), una tupla o una lista.\n",
    "*   El bucle **while** cuando queramos que la acción se repita hasta que se satisfaga una condición.\n",
    "\n",
    "\n",
    "\n"
   ]
  },
  {
   "cell_type": "markdown",
   "metadata": {
    "colab_type": "text",
    "id": "t-mW0XZDweWZ"
   },
   "source": [
    "#### Bucles"
   ]
  },
  {
   "cell_type": "markdown",
   "metadata": {
    "colab_type": "text",
    "id": "hKA_sE5IIu_k"
   },
   "source": [
    "##### Bucle *for*\n",
    "\n",
    "Vamos a reutilizar un ejemplo anterior:**bold text**"
   ]
  },
  {
   "cell_type": "code",
   "execution_count": null,
   "metadata": {
    "colab": {
     "base_uri": "https://localhost:8080/",
     "height": 69
    },
    "colab_type": "code",
    "executionInfo": {
     "elapsed": 646,
     "status": "ok",
     "timestamp": 1540419342656,
     "user": {
      "displayName": "Jaume Rheon",
      "photoUrl": "https://lh4.googleusercontent.com/-gz9guKWrw7U/AAAAAAAAAAI/AAAAAAAACok/mGqTx1B5Q8c/s64/photo.jpg",
      "userId": "13482955063337757112"
     },
     "user_tz": -120
    },
    "id": "IWqxlXHPItTG",
    "outputId": "7c5f36f7-4e05-4eaa-c237-e57313317e49"
   },
   "outputs": [],
   "source": [
    "mujeres_que_lo_petaron = [\"Hedy Lamarr\", \"Valentina Tereshkova\", \"Grace Hopper\"]\n",
    "\n",
    "for mujer in mujeres_que_lo_petaron:\n",
    "  print(mujer + ' era muy máquina.')"
   ]
  },
  {
   "cell_type": "markdown",
   "metadata": {
    "colab_type": "text",
    "id": "WeAAWjjPJ4hI"
   },
   "source": [
    "Como podeis observar, utilizamos una variable auxiliar llamada `mujer` que empieza tomando el primer valor de la lista `mujeres_que_lo_petaron`. Una vez realizada la acción dentro del bucle (la sentencia `print`) la variable auxiliar `mujer` toma el siguiente valor de la lista y ejecuta todo aquello que haya dentro del bucle de nuevo; y así hasta llegar al final de la variable `mujeres_que_lo_petaron`."
   ]
  },
  {
   "cell_type": "markdown",
   "metadata": {
    "colab_type": "text",
    "id": "HomZrr3ZLE1q"
   },
   "source": [
    "##### Bucle *while*\n",
    "\n",
    "El uso común del bucle `while` es el de repetir las acciones contenidas dentro del bucle de forma indefinida hasta que se cumpla la condición que acompaña la sentencia `while`.\n",
    "\n",
    "Veamoslo con un ejemplo:"
   ]
  },
  {
   "cell_type": "code",
   "execution_count": null,
   "metadata": {
    "colab": {
     "base_uri": "https://localhost:8080/",
     "height": 191
    },
    "colab_type": "code",
    "executionInfo": {
     "elapsed": 620,
     "status": "ok",
     "timestamp": 1540422441530,
     "user": {
      "displayName": "Jaume Rheon",
      "photoUrl": "https://lh4.googleusercontent.com/-gz9guKWrw7U/AAAAAAAAAAI/AAAAAAAACok/mGqTx1B5Q8c/s64/photo.jpg",
      "userId": "13482955063337757112"
     },
     "user_tz": -120
    },
    "id": "tG7YVAKmJuKO",
    "outputId": "b55a24fa-3b46-4fe9-848a-8677a5bb34d2"
   },
   "outputs": [],
   "source": [
    "contador = 0\n",
    "\n",
    "while contador < 10:\n",
    "  print('#' * contador)\n",
    "  contador += 1"
   ]
  },
  {
   "cell_type": "markdown",
   "metadata": {
    "colab_type": "text",
    "id": "5EALxkxSVVsA"
   },
   "source": [
    "En este ejemplo, hemos dibujado un triángulo de 9 alturas, puesto que la condición era que mientras el contador fuera menor a 10, siguiera dibujando.\n",
    "\n",
    "Puedes probar a aumentar el número de la condición para que el cuerpo del bucle se repita más veces y haga el triángulo más grande (tu verás lo que haces si estás pensando en poner un número **muy** grande)."
   ]
  },
  {
   "cell_type": "markdown",
   "metadata": {
    "colab_type": "text",
    "id": "csY_24WMweXx"
   },
   "source": [
    "***"
   ]
  },
  {
   "cell_type": "markdown",
   "metadata": {
    "colab_type": "text",
    "id": "werDtM-LweXy"
   },
   "source": [
    "### Definición de funciones"
   ]
  },
  {
   "cell_type": "markdown",
   "metadata": {
    "colab_type": "text",
    "id": "Remd10B7weXz"
   },
   "source": [
    "Para definir nuestra propia función utilizamos la sentencia `def` seguida del nombre de la misma y entre paréntesis los argumentos de entrada. La primera línea de la función puede ser una cadena de documentación.\n",
    "\n"
   ]
  },
  {
   "cell_type": "code",
   "execution_count": null,
   "metadata": {
    "colab": {},
    "colab_type": "code",
    "id": "_JKx1qnoweX2"
   },
   "outputs": [],
   "source": [
    "def funcion(x, y):\n",
    "    \"\"\"Función de prueba.\"\"\"\n",
    "    pass"
   ]
  },
  {
   "cell_type": "code",
   "execution_count": null,
   "metadata": {
    "colab": {},
    "colab_type": "code",
    "id": "rT2HpfdjweX6"
   },
   "outputs": [],
   "source": [
    "funcion"
   ]
  },
  {
   "cell_type": "code",
   "execution_count": null,
   "metadata": {
    "colab": {},
    "colab_type": "code",
    "id": "rxxE_ebyweYC"
   },
   "outputs": [],
   "source": [
    "funcion.__doc__"
   ]
  },
  {
   "cell_type": "markdown",
   "metadata": {
    "colab_type": "text",
    "id": "JlCH2PjxweYt"
   },
   "source": [
    "Los valores de retorno de la función se especifican con la sentencia `return`. Por ejemplo:"
   ]
  },
  {
   "cell_type": "code",
   "execution_count": null,
   "metadata": {
    "colab": {},
    "colab_type": "code",
    "id": "wbLagoUTweYu"
   },
   "outputs": [],
   "source": [
    "def al_cuadrado(x):\n",
    "    \"\"\"Función que eleva un número al cuadrado.\"\"\"\n",
    "    y = x ** 2\n",
    "    return y"
   ]
  },
  {
   "cell_type": "code",
   "execution_count": null,
   "metadata": {
    "colab": {},
    "colab_type": "code",
    "id": "uEjVnSNqweZD"
   },
   "outputs": [],
   "source": [
    "al_cuadrado(4)"
   ]
  },
  {
   "cell_type": "code",
   "execution_count": null,
   "metadata": {
    "colab": {},
    "colab_type": "code",
    "id": "hXXKyAwEweZP"
   },
   "outputs": [],
   "source": [
    "def multiplica(x, y=2.0):\n",
    "    \"\"\"Multiplica dos números, por defecto el primero por 2.\"\"\"\n",
    "    return x * y\n",
    "\n",
    "multiplica(2, 3)"
   ]
  },
  {
   "cell_type": "code",
   "execution_count": null,
   "metadata": {
    "colab": {},
    "colab_type": "code",
    "id": "85ylXLnUweZd"
   },
   "outputs": [],
   "source": [
    "multiplica(4)"
   ]
  },
  {
   "cell_type": "code",
   "execution_count": null,
   "metadata": {
    "colab": {},
    "colab_type": "code",
    "id": "MQIjB-mDweaR"
   },
   "outputs": [],
   "source": [
    "multiplica(x, y=1.0)"
   ]
  },
  {
   "cell_type": "markdown",
   "metadata": {
    "colab_type": "text",
    "id": "S-hn0hDOtXC_"
   },
   "source": [
    "**Ejercicio: **\n",
    "Haz una función que te diga si un número si es par o impar"
   ]
  },
  {
   "cell_type": "code",
   "execution_count": null,
   "metadata": {
    "colab": {},
    "colab_type": "code",
    "id": "spGcmBfCthrh"
   },
   "outputs": [],
   "source": []
  },
  {
   "cell_type": "markdown",
   "metadata": {
    "colab_type": "text",
    "id": "AKMsBDzkweaW"
   },
   "source": [
    "### BONUS 1: Lectura y escritura de ficheros"
   ]
  },
  {
   "cell_type": "markdown",
   "metadata": {},
   "source": [
    "Vamos a recuperar la variable que contenía la introducción del episodio IV y escribirla en un fichero en nuestro ordenador para atesorarlo y no perderlo nunca:"
   ]
  },
  {
   "cell_type": "code",
   "execution_count": null,
   "metadata": {},
   "outputs": [],
   "source": [
    "intro_episodio_VI = ('Luke Skywalker ha regresado '\n",
    "                     'a su planeta hogar Tatooine, '\n",
    "                     'en su intento por rescatar a su '\n",
    "                     'amigo Han Solo de las garras del '\n",
    "                     'malvado Java, el Hut.')"
   ]
  },
  {
   "cell_type": "code",
   "execution_count": null,
   "metadata": {
    "colab": {},
    "colab_type": "code",
    "id": "bsp6Awpcweaj"
   },
   "outputs": [],
   "source": [
    "with open(\"introduccion_star_wars_VI.txt\", mode=\"w\") as manejador_fichero:\n",
    "    manejador_fichero.write(intro_episodio_VI)"
   ]
  },
  {
   "cell_type": "markdown",
   "metadata": {},
   "source": [
    "De tal forma que, cuando queramos utilizarlo en nuestro código, siempre lo tendremos a mano:"
   ]
  },
  {
   "cell_type": "code",
   "execution_count": null,
   "metadata": {
    "colab": {},
    "colab_type": "code",
    "id": "xgAtXSFTwea1"
   },
   "outputs": [],
   "source": [
    "with open(\"introduccion_star_wars_VI.txt\", mode = \"r\") as manejador_fichero:\n",
    "    leer = manejador_fichero.read()\n",
    "print(leer)"
   ]
  },
  {
   "cell_type": "markdown",
   "metadata": {
    "colab_type": "text",
    "id": "zqdn6Rz7wea6"
   },
   "source": [
    "De manera más avanzada, se utilizan fichero de tipo JSON, que son ficheros estructurados y que ofrecen mayores ventajas al texto plano.\n",
    "\n",
    "Utilizar librerías externas que amplien las funcionalidades de Python es tan sencillo como:"
   ]
  },
  {
   "cell_type": "code",
   "execution_count": null,
   "metadata": {
    "colab": {},
    "colab_type": "code",
    "id": "Vfm44TWUwea-"
   },
   "outputs": [],
   "source": [
    "import json"
   ]
  },
  {
   "cell_type": "markdown",
   "metadata": {},
   "source": [
    "Veamos qué es un fichero JSON y qué relación tiene con los diccionarios de Python:"
   ]
  },
  {
   "cell_type": "code",
   "execution_count": null,
   "metadata": {
    "colab": {},
    "colab_type": "code",
    "id": "BtX9vfKlwebD"
   },
   "outputs": [],
   "source": [
    "equipo_pokemon = {\"equipo_python_alicante\": {   \"charmaleon\": [\"llamarada\",\"cuchillada\"],\n",
    "                                                \"gengar\": [\"hypnosis\", \"pesadilla\"]\n",
    "                                            }\n",
    "}\n",
    "with open(\"pokemon.json\", mode=\"w\") as manejador_json:\n",
    "        json.dump(equipo_pokemon, manejador_json, indent=4, separators=(',', ': '))"
   ]
  },
  {
   "cell_type": "markdown",
   "metadata": {},
   "source": [
    "Para leer el archivo JSON, utilizamos la función `load` que nos proporciona la librería `json`:\n"
   ]
  },
  {
   "cell_type": "code",
   "execution_count": null,
   "metadata": {},
   "outputs": [],
   "source": [
    "with open(\"pokemon.json\", mode=\"r\") as manejador_json:\n",
    "        equipo_leido = json.load(manejador_json)\n",
    "equipo_leido"
   ]
  },
  {
   "cell_type": "markdown",
   "metadata": {},
   "source": [
    "**Ejercicio:** Declara un diccionario con un nuevo equipo pokemon que lleve tu nombre y que incluya al menos dos pokemon con dos ataques cada uno."
   ]
  },
  {
   "cell_type": "code",
   "execution_count": null,
   "metadata": {},
   "outputs": [],
   "source": [
    "todos_los_equipos = {}\n",
    "todos_los_equipos.update(equipo_leido)  # Update es la función para añadir un diccionario dentro de otro diccionario.\n",
    "\n",
    "tu_equipo = {\"equipo_nombre\": {} }\n",
    "# Recuerda añadir tu equipo todos los equipos antes de escribir el json.\n"
   ]
  },
  {
   "cell_type": "markdown",
   "metadata": {
    "colab_type": "text",
    "id": "nE0RJ7atwebU"
   },
   "source": [
    "## Referencias"
   ]
  },
  {
   "cell_type": "markdown",
   "metadata": {
    "colab_type": "text",
    "id": "MzUWh6sCwebW"
   },
   "source": [
    "*[ Curso de Python en la EPS de la Universidad de Alicante ](https://github.com/CAChemE/curso_python_alicante)\n",
    "Impartido por Juan Luis Cano y organizado por CAChemE"
   ]
  }
 ],
 "metadata": {
  "colab": {
   "collapsed_sections": [
    "GIBu1sbuweOj",
    "XoXPuvms9eGn"
   ],
   "name": "01_intro-python-ipython.ipynb",
   "provenance": [],
   "toc_visible": true,
   "version": "0.3.2"
  },
  "kernelspec": {
   "display_name": "Python 3",
   "language": "python",
   "name": "python3"
  },
  "language_info": {
   "codemirror_mode": {
    "name": "ipython",
    "version": 3
   },
   "file_extension": ".py",
   "mimetype": "text/x-python",
   "name": "python",
   "nbconvert_exporter": "python",
   "pygments_lexer": "ipython3",
   "version": "3.7.0"
  }
 },
 "nbformat": 4,
 "nbformat_minor": 1
}
